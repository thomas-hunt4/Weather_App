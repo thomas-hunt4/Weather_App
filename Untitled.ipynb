{
 "cells": [
  {
   "cell_type": "code",
   "execution_count": 1,
   "id": "030a0ae2-4bb3-4460-b545-afe2cfb66ee9",
   "metadata": {},
   "outputs": [],
   "source": [
    "import pandas as pd"
   ]
  },
  {
   "cell_type": "code",
   "execution_count": 5,
   "id": "e61ee857-1719-450c-91d5-9fb9610a5375",
   "metadata": {},
   "outputs": [],
   "source": [
    "df = pd.read_csv('data/history_management/weather_history.csv')"
   ]
  },
  {
   "cell_type": "code",
   "execution_count": null,
   "id": "9677a06d-c8ea-4f5d-a75f-bb7275fa390d",
   "metadata": {},
   "outputs": [],
   "source": []
  }
 ],
 "metadata": {
  "kernelspec": {
   "display_name": "Python 3 (ipykernel)",
   "language": "python",
   "name": "python3"
  },
  "language_info": {
   "codemirror_mode": {
    "name": "ipython",
    "version": 3
   },
   "file_extension": ".py",
   "mimetype": "text/x-python",
   "name": "python",
   "nbconvert_exporter": "python",
   "pygments_lexer": "ipython3",
   "version": "3.11.8"
  }
 },
 "nbformat": 4,
 "nbformat_minor": 5
}
